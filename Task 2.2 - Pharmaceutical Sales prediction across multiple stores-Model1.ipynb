{
 "cells": [
  {
   "cell_type": "code",
   "execution_count": 1,
   "id": "aef75177",
   "metadata": {},
   "outputs": [],
   "source": [
    "import pandas as pd\n",
    "import numpy as np\n",
    "import matplotlib.pyplot as plt\n",
    "import seaborn as sns\n",
    "import warnings \n",
    "warnings.filterwarnings('ignore')"
   ]
  },
  {
   "cell_type": "code",
   "execution_count": 2,
   "id": "a4280928",
   "metadata": {},
   "outputs": [
    {
     "data": {
      "text/html": [
       "<div>\n",
       "<style scoped>\n",
       "    .dataframe tbody tr th:only-of-type {\n",
       "        vertical-align: middle;\n",
       "    }\n",
       "\n",
       "    .dataframe tbody tr th {\n",
       "        vertical-align: top;\n",
       "    }\n",
       "\n",
       "    .dataframe thead th {\n",
       "        text-align: right;\n",
       "    }\n",
       "</style>\n",
       "<table border=\"1\" class=\"dataframe\">\n",
       "  <thead>\n",
       "    <tr style=\"text-align: right;\">\n",
       "      <th></th>\n",
       "      <th>Store</th>\n",
       "      <th>StoreType</th>\n",
       "      <th>Assortment</th>\n",
       "      <th>CompetitionDistance</th>\n",
       "      <th>CompetitionOpenSinceMonth</th>\n",
       "      <th>CompetitionOpenSinceYear</th>\n",
       "      <th>Promo2</th>\n",
       "      <th>Promo2SinceWeek</th>\n",
       "      <th>Promo2SinceYear</th>\n",
       "      <th>PromoInterval</th>\n",
       "    </tr>\n",
       "  </thead>\n",
       "  <tbody>\n",
       "    <tr>\n",
       "      <th>0</th>\n",
       "      <td>1</td>\n",
       "      <td>c</td>\n",
       "      <td>a</td>\n",
       "      <td>1270.0</td>\n",
       "      <td>9.000000</td>\n",
       "      <td>2008.000000</td>\n",
       "      <td>0</td>\n",
       "      <td>23.595447</td>\n",
       "      <td>2011.763573</td>\n",
       "      <td>NaN</td>\n",
       "    </tr>\n",
       "    <tr>\n",
       "      <th>1</th>\n",
       "      <td>2</td>\n",
       "      <td>a</td>\n",
       "      <td>a</td>\n",
       "      <td>570.0</td>\n",
       "      <td>11.000000</td>\n",
       "      <td>2007.000000</td>\n",
       "      <td>1</td>\n",
       "      <td>13.000000</td>\n",
       "      <td>2010.000000</td>\n",
       "      <td>Jan,Apr,Jul,Oct</td>\n",
       "    </tr>\n",
       "    <tr>\n",
       "      <th>2</th>\n",
       "      <td>3</td>\n",
       "      <td>a</td>\n",
       "      <td>a</td>\n",
       "      <td>14130.0</td>\n",
       "      <td>12.000000</td>\n",
       "      <td>2006.000000</td>\n",
       "      <td>1</td>\n",
       "      <td>14.000000</td>\n",
       "      <td>2011.000000</td>\n",
       "      <td>Jan,Apr,Jul,Oct</td>\n",
       "    </tr>\n",
       "    <tr>\n",
       "      <th>3</th>\n",
       "      <td>4</td>\n",
       "      <td>c</td>\n",
       "      <td>c</td>\n",
       "      <td>620.0</td>\n",
       "      <td>9.000000</td>\n",
       "      <td>2009.000000</td>\n",
       "      <td>0</td>\n",
       "      <td>23.595447</td>\n",
       "      <td>2011.763573</td>\n",
       "      <td>NaN</td>\n",
       "    </tr>\n",
       "    <tr>\n",
       "      <th>4</th>\n",
       "      <td>5</td>\n",
       "      <td>a</td>\n",
       "      <td>a</td>\n",
       "      <td>29910.0</td>\n",
       "      <td>4.000000</td>\n",
       "      <td>2015.000000</td>\n",
       "      <td>0</td>\n",
       "      <td>23.595447</td>\n",
       "      <td>2011.763573</td>\n",
       "      <td>NaN</td>\n",
       "    </tr>\n",
       "    <tr>\n",
       "      <th>...</th>\n",
       "      <td>...</td>\n",
       "      <td>...</td>\n",
       "      <td>...</td>\n",
       "      <td>...</td>\n",
       "      <td>...</td>\n",
       "      <td>...</td>\n",
       "      <td>...</td>\n",
       "      <td>...</td>\n",
       "      <td>...</td>\n",
       "      <td>...</td>\n",
       "    </tr>\n",
       "    <tr>\n",
       "      <th>1110</th>\n",
       "      <td>1111</td>\n",
       "      <td>a</td>\n",
       "      <td>a</td>\n",
       "      <td>1900.0</td>\n",
       "      <td>6.000000</td>\n",
       "      <td>2014.000000</td>\n",
       "      <td>1</td>\n",
       "      <td>31.000000</td>\n",
       "      <td>2013.000000</td>\n",
       "      <td>Jan,Apr,Jul,Oct</td>\n",
       "    </tr>\n",
       "    <tr>\n",
       "      <th>1111</th>\n",
       "      <td>1112</td>\n",
       "      <td>c</td>\n",
       "      <td>c</td>\n",
       "      <td>1880.0</td>\n",
       "      <td>4.000000</td>\n",
       "      <td>2006.000000</td>\n",
       "      <td>0</td>\n",
       "      <td>23.595447</td>\n",
       "      <td>2011.763573</td>\n",
       "      <td>NaN</td>\n",
       "    </tr>\n",
       "    <tr>\n",
       "      <th>1112</th>\n",
       "      <td>1113</td>\n",
       "      <td>a</td>\n",
       "      <td>c</td>\n",
       "      <td>9260.0</td>\n",
       "      <td>7.224704</td>\n",
       "      <td>2008.668857</td>\n",
       "      <td>0</td>\n",
       "      <td>23.595447</td>\n",
       "      <td>2011.763573</td>\n",
       "      <td>NaN</td>\n",
       "    </tr>\n",
       "    <tr>\n",
       "      <th>1113</th>\n",
       "      <td>1114</td>\n",
       "      <td>a</td>\n",
       "      <td>c</td>\n",
       "      <td>870.0</td>\n",
       "      <td>7.224704</td>\n",
       "      <td>2008.668857</td>\n",
       "      <td>0</td>\n",
       "      <td>23.595447</td>\n",
       "      <td>2011.763573</td>\n",
       "      <td>NaN</td>\n",
       "    </tr>\n",
       "    <tr>\n",
       "      <th>1114</th>\n",
       "      <td>1115</td>\n",
       "      <td>d</td>\n",
       "      <td>c</td>\n",
       "      <td>5350.0</td>\n",
       "      <td>7.224704</td>\n",
       "      <td>2008.668857</td>\n",
       "      <td>1</td>\n",
       "      <td>22.000000</td>\n",
       "      <td>2012.000000</td>\n",
       "      <td>Mar,Jun,Sept,Dec</td>\n",
       "    </tr>\n",
       "  </tbody>\n",
       "</table>\n",
       "<p>1115 rows × 10 columns</p>\n",
       "</div>"
      ],
      "text/plain": [
       "      Store StoreType Assortment  CompetitionDistance  \\\n",
       "0         1         c          a               1270.0   \n",
       "1         2         a          a                570.0   \n",
       "2         3         a          a              14130.0   \n",
       "3         4         c          c                620.0   \n",
       "4         5         a          a              29910.0   \n",
       "...     ...       ...        ...                  ...   \n",
       "1110   1111         a          a               1900.0   \n",
       "1111   1112         c          c               1880.0   \n",
       "1112   1113         a          c               9260.0   \n",
       "1113   1114         a          c                870.0   \n",
       "1114   1115         d          c               5350.0   \n",
       "\n",
       "      CompetitionOpenSinceMonth  CompetitionOpenSinceYear  Promo2  \\\n",
       "0                      9.000000               2008.000000       0   \n",
       "1                     11.000000               2007.000000       1   \n",
       "2                     12.000000               2006.000000       1   \n",
       "3                      9.000000               2009.000000       0   \n",
       "4                      4.000000               2015.000000       0   \n",
       "...                         ...                       ...     ...   \n",
       "1110                   6.000000               2014.000000       1   \n",
       "1111                   4.000000               2006.000000       0   \n",
       "1112                   7.224704               2008.668857       0   \n",
       "1113                   7.224704               2008.668857       0   \n",
       "1114                   7.224704               2008.668857       1   \n",
       "\n",
       "      Promo2SinceWeek  Promo2SinceYear     PromoInterval  \n",
       "0           23.595447      2011.763573               NaN  \n",
       "1           13.000000      2010.000000   Jan,Apr,Jul,Oct  \n",
       "2           14.000000      2011.000000   Jan,Apr,Jul,Oct  \n",
       "3           23.595447      2011.763573               NaN  \n",
       "4           23.595447      2011.763573               NaN  \n",
       "...               ...              ...               ...  \n",
       "1110        31.000000      2013.000000   Jan,Apr,Jul,Oct  \n",
       "1111        23.595447      2011.763573               NaN  \n",
       "1112        23.595447      2011.763573               NaN  \n",
       "1113        23.595447      2011.763573               NaN  \n",
       "1114        22.000000      2012.000000  Mar,Jun,Sept,Dec  \n",
       "\n",
       "[1115 rows x 10 columns]"
      ]
     },
     "execution_count": 2,
     "metadata": {},
     "output_type": "execute_result"
    }
   ],
   "source": [
    "cl_Storedata =  pd.read_csv('Cl_Stored_Data.csv')\n",
    "cl_Storedata"
   ]
  },
  {
   "cell_type": "code",
   "execution_count": 3,
   "id": "0e83c5a7",
   "metadata": {},
   "outputs": [
    {
     "data": {
      "text/plain": [
       "Store                          0\n",
       "StoreType                      0\n",
       "Assortment                     0\n",
       "CompetitionDistance            0\n",
       "CompetitionOpenSinceMonth      0\n",
       "CompetitionOpenSinceYear       0\n",
       "Promo2                         0\n",
       "Promo2SinceWeek                0\n",
       "Promo2SinceYear                0\n",
       "PromoInterval                544\n",
       "dtype: int64"
      ]
     },
     "execution_count": 3,
     "metadata": {},
     "output_type": "execute_result"
    }
   ],
   "source": [
    "cl_Storedata.isnull().sum()"
   ]
  },
  {
   "cell_type": "code",
   "execution_count": 4,
   "id": "ac7af915",
   "metadata": {},
   "outputs": [
    {
     "data": {
      "text/html": [
       "<div>\n",
       "<style scoped>\n",
       "    .dataframe tbody tr th:only-of-type {\n",
       "        vertical-align: middle;\n",
       "    }\n",
       "\n",
       "    .dataframe tbody tr th {\n",
       "        vertical-align: top;\n",
       "    }\n",
       "\n",
       "    .dataframe thead th {\n",
       "        text-align: right;\n",
       "    }\n",
       "</style>\n",
       "<table border=\"1\" class=\"dataframe\">\n",
       "  <thead>\n",
       "    <tr style=\"text-align: right;\">\n",
       "      <th></th>\n",
       "      <th>Store</th>\n",
       "      <th>DayOfWeek</th>\n",
       "      <th>Date</th>\n",
       "      <th>Sales</th>\n",
       "      <th>Customers</th>\n",
       "      <th>Open</th>\n",
       "      <th>Promo</th>\n",
       "      <th>StateHoliday</th>\n",
       "      <th>SchoolHoliday</th>\n",
       "    </tr>\n",
       "  </thead>\n",
       "  <tbody>\n",
       "    <tr>\n",
       "      <th>0</th>\n",
       "      <td>1</td>\n",
       "      <td>5</td>\n",
       "      <td>2015-07-31</td>\n",
       "      <td>5263</td>\n",
       "      <td>555</td>\n",
       "      <td>1</td>\n",
       "      <td>1</td>\n",
       "      <td>1</td>\n",
       "      <td>1</td>\n",
       "    </tr>\n",
       "    <tr>\n",
       "      <th>1</th>\n",
       "      <td>2</td>\n",
       "      <td>5</td>\n",
       "      <td>2015-07-31</td>\n",
       "      <td>6064</td>\n",
       "      <td>625</td>\n",
       "      <td>1</td>\n",
       "      <td>1</td>\n",
       "      <td>1</td>\n",
       "      <td>1</td>\n",
       "    </tr>\n",
       "    <tr>\n",
       "      <th>2</th>\n",
       "      <td>3</td>\n",
       "      <td>5</td>\n",
       "      <td>2015-07-31</td>\n",
       "      <td>8314</td>\n",
       "      <td>821</td>\n",
       "      <td>1</td>\n",
       "      <td>1</td>\n",
       "      <td>1</td>\n",
       "      <td>1</td>\n",
       "    </tr>\n",
       "    <tr>\n",
       "      <th>3</th>\n",
       "      <td>4</td>\n",
       "      <td>5</td>\n",
       "      <td>2015-07-31</td>\n",
       "      <td>13995</td>\n",
       "      <td>1498</td>\n",
       "      <td>1</td>\n",
       "      <td>1</td>\n",
       "      <td>1</td>\n",
       "      <td>1</td>\n",
       "    </tr>\n",
       "    <tr>\n",
       "      <th>4</th>\n",
       "      <td>5</td>\n",
       "      <td>5</td>\n",
       "      <td>2015-07-31</td>\n",
       "      <td>4822</td>\n",
       "      <td>559</td>\n",
       "      <td>1</td>\n",
       "      <td>1</td>\n",
       "      <td>1</td>\n",
       "      <td>1</td>\n",
       "    </tr>\n",
       "    <tr>\n",
       "      <th>...</th>\n",
       "      <td>...</td>\n",
       "      <td>...</td>\n",
       "      <td>...</td>\n",
       "      <td>...</td>\n",
       "      <td>...</td>\n",
       "      <td>...</td>\n",
       "      <td>...</td>\n",
       "      <td>...</td>\n",
       "      <td>...</td>\n",
       "    </tr>\n",
       "    <tr>\n",
       "      <th>1017204</th>\n",
       "      <td>1111</td>\n",
       "      <td>2</td>\n",
       "      <td>2013-01-01</td>\n",
       "      <td>0</td>\n",
       "      <td>0</td>\n",
       "      <td>0</td>\n",
       "      <td>0</td>\n",
       "      <td>2</td>\n",
       "      <td>1</td>\n",
       "    </tr>\n",
       "    <tr>\n",
       "      <th>1017205</th>\n",
       "      <td>1112</td>\n",
       "      <td>2</td>\n",
       "      <td>2013-01-01</td>\n",
       "      <td>0</td>\n",
       "      <td>0</td>\n",
       "      <td>0</td>\n",
       "      <td>0</td>\n",
       "      <td>2</td>\n",
       "      <td>1</td>\n",
       "    </tr>\n",
       "    <tr>\n",
       "      <th>1017206</th>\n",
       "      <td>1113</td>\n",
       "      <td>2</td>\n",
       "      <td>2013-01-01</td>\n",
       "      <td>0</td>\n",
       "      <td>0</td>\n",
       "      <td>0</td>\n",
       "      <td>0</td>\n",
       "      <td>2</td>\n",
       "      <td>1</td>\n",
       "    </tr>\n",
       "    <tr>\n",
       "      <th>1017207</th>\n",
       "      <td>1114</td>\n",
       "      <td>2</td>\n",
       "      <td>2013-01-01</td>\n",
       "      <td>0</td>\n",
       "      <td>0</td>\n",
       "      <td>0</td>\n",
       "      <td>0</td>\n",
       "      <td>2</td>\n",
       "      <td>1</td>\n",
       "    </tr>\n",
       "    <tr>\n",
       "      <th>1017208</th>\n",
       "      <td>1115</td>\n",
       "      <td>2</td>\n",
       "      <td>2013-01-01</td>\n",
       "      <td>0</td>\n",
       "      <td>0</td>\n",
       "      <td>0</td>\n",
       "      <td>0</td>\n",
       "      <td>2</td>\n",
       "      <td>1</td>\n",
       "    </tr>\n",
       "  </tbody>\n",
       "</table>\n",
       "<p>1017209 rows × 9 columns</p>\n",
       "</div>"
      ],
      "text/plain": [
       "         Store  DayOfWeek        Date  Sales  Customers  Open  Promo  \\\n",
       "0            1          5  2015-07-31   5263        555     1      1   \n",
       "1            2          5  2015-07-31   6064        625     1      1   \n",
       "2            3          5  2015-07-31   8314        821     1      1   \n",
       "3            4          5  2015-07-31  13995       1498     1      1   \n",
       "4            5          5  2015-07-31   4822        559     1      1   \n",
       "...        ...        ...         ...    ...        ...   ...    ...   \n",
       "1017204   1111          2  2013-01-01      0          0     0      0   \n",
       "1017205   1112          2  2013-01-01      0          0     0      0   \n",
       "1017206   1113          2  2013-01-01      0          0     0      0   \n",
       "1017207   1114          2  2013-01-01      0          0     0      0   \n",
       "1017208   1115          2  2013-01-01      0          0     0      0   \n",
       "\n",
       "         StateHoliday  SchoolHoliday  \n",
       "0                   1              1  \n",
       "1                   1              1  \n",
       "2                   1              1  \n",
       "3                   1              1  \n",
       "4                   1              1  \n",
       "...               ...            ...  \n",
       "1017204             2              1  \n",
       "1017205             2              1  \n",
       "1017206             2              1  \n",
       "1017207             2              1  \n",
       "1017208             2              1  \n",
       "\n",
       "[1017209 rows x 9 columns]"
      ]
     },
     "execution_count": 4,
     "metadata": {},
     "output_type": "execute_result"
    }
   ],
   "source": [
    "cl_traindata = pd.read_csv('cl.traindata.csv')\n",
    "cl_traindata"
   ]
  },
  {
   "cell_type": "code",
   "execution_count": 5,
   "id": "3b9193e0",
   "metadata": {},
   "outputs": [
    {
     "data": {
      "text/plain": [
       "Store            0\n",
       "DayOfWeek        0\n",
       "Date             0\n",
       "Sales            0\n",
       "Customers        0\n",
       "Open             0\n",
       "Promo            0\n",
       "StateHoliday     0\n",
       "SchoolHoliday    0\n",
       "dtype: int64"
      ]
     },
     "execution_count": 5,
     "metadata": {},
     "output_type": "execute_result"
    }
   ],
   "source": [
    "cl_traindata.isnull().sum()"
   ]
  },
  {
   "cell_type": "code",
   "execution_count": 6,
   "id": "53c0781b",
   "metadata": {},
   "outputs": [
    {
     "data": {
      "text/html": [
       "<div>\n",
       "<style scoped>\n",
       "    .dataframe tbody tr th:only-of-type {\n",
       "        vertical-align: middle;\n",
       "    }\n",
       "\n",
       "    .dataframe tbody tr th {\n",
       "        vertical-align: top;\n",
       "    }\n",
       "\n",
       "    .dataframe thead th {\n",
       "        text-align: right;\n",
       "    }\n",
       "</style>\n",
       "<table border=\"1\" class=\"dataframe\">\n",
       "  <thead>\n",
       "    <tr style=\"text-align: right;\">\n",
       "      <th></th>\n",
       "      <th>Id</th>\n",
       "      <th>Store</th>\n",
       "      <th>DayOfWeek</th>\n",
       "      <th>Date</th>\n",
       "      <th>Open</th>\n",
       "      <th>Promo</th>\n",
       "      <th>StateHoliday</th>\n",
       "      <th>SchoolHoliday</th>\n",
       "    </tr>\n",
       "  </thead>\n",
       "  <tbody>\n",
       "    <tr>\n",
       "      <th>0</th>\n",
       "      <td>1</td>\n",
       "      <td>1</td>\n",
       "      <td>4</td>\n",
       "      <td>2015-09-17</td>\n",
       "      <td>1.0</td>\n",
       "      <td>1</td>\n",
       "      <td>0</td>\n",
       "      <td>0</td>\n",
       "    </tr>\n",
       "    <tr>\n",
       "      <th>1</th>\n",
       "      <td>2</td>\n",
       "      <td>3</td>\n",
       "      <td>4</td>\n",
       "      <td>2015-09-17</td>\n",
       "      <td>1.0</td>\n",
       "      <td>1</td>\n",
       "      <td>0</td>\n",
       "      <td>0</td>\n",
       "    </tr>\n",
       "    <tr>\n",
       "      <th>2</th>\n",
       "      <td>3</td>\n",
       "      <td>7</td>\n",
       "      <td>4</td>\n",
       "      <td>2015-09-17</td>\n",
       "      <td>1.0</td>\n",
       "      <td>1</td>\n",
       "      <td>0</td>\n",
       "      <td>0</td>\n",
       "    </tr>\n",
       "    <tr>\n",
       "      <th>3</th>\n",
       "      <td>4</td>\n",
       "      <td>8</td>\n",
       "      <td>4</td>\n",
       "      <td>2015-09-17</td>\n",
       "      <td>1.0</td>\n",
       "      <td>1</td>\n",
       "      <td>0</td>\n",
       "      <td>0</td>\n",
       "    </tr>\n",
       "    <tr>\n",
       "      <th>4</th>\n",
       "      <td>5</td>\n",
       "      <td>9</td>\n",
       "      <td>4</td>\n",
       "      <td>2015-09-17</td>\n",
       "      <td>1.0</td>\n",
       "      <td>1</td>\n",
       "      <td>0</td>\n",
       "      <td>0</td>\n",
       "    </tr>\n",
       "    <tr>\n",
       "      <th>...</th>\n",
       "      <td>...</td>\n",
       "      <td>...</td>\n",
       "      <td>...</td>\n",
       "      <td>...</td>\n",
       "      <td>...</td>\n",
       "      <td>...</td>\n",
       "      <td>...</td>\n",
       "      <td>...</td>\n",
       "    </tr>\n",
       "    <tr>\n",
       "      <th>41083</th>\n",
       "      <td>41084</td>\n",
       "      <td>1111</td>\n",
       "      <td>6</td>\n",
       "      <td>2015-08-01</td>\n",
       "      <td>1.0</td>\n",
       "      <td>0</td>\n",
       "      <td>0</td>\n",
       "      <td>0</td>\n",
       "    </tr>\n",
       "    <tr>\n",
       "      <th>41084</th>\n",
       "      <td>41085</td>\n",
       "      <td>1112</td>\n",
       "      <td>6</td>\n",
       "      <td>2015-08-01</td>\n",
       "      <td>1.0</td>\n",
       "      <td>0</td>\n",
       "      <td>0</td>\n",
       "      <td>0</td>\n",
       "    </tr>\n",
       "    <tr>\n",
       "      <th>41085</th>\n",
       "      <td>41086</td>\n",
       "      <td>1113</td>\n",
       "      <td>6</td>\n",
       "      <td>2015-08-01</td>\n",
       "      <td>1.0</td>\n",
       "      <td>0</td>\n",
       "      <td>0</td>\n",
       "      <td>0</td>\n",
       "    </tr>\n",
       "    <tr>\n",
       "      <th>41086</th>\n",
       "      <td>41087</td>\n",
       "      <td>1114</td>\n",
       "      <td>6</td>\n",
       "      <td>2015-08-01</td>\n",
       "      <td>1.0</td>\n",
       "      <td>0</td>\n",
       "      <td>0</td>\n",
       "      <td>0</td>\n",
       "    </tr>\n",
       "    <tr>\n",
       "      <th>41087</th>\n",
       "      <td>41088</td>\n",
       "      <td>1115</td>\n",
       "      <td>6</td>\n",
       "      <td>2015-08-01</td>\n",
       "      <td>1.0</td>\n",
       "      <td>0</td>\n",
       "      <td>0</td>\n",
       "      <td>1</td>\n",
       "    </tr>\n",
       "  </tbody>\n",
       "</table>\n",
       "<p>41088 rows × 8 columns</p>\n",
       "</div>"
      ],
      "text/plain": [
       "          Id  Store  DayOfWeek        Date  Open  Promo StateHoliday  \\\n",
       "0          1      1          4  2015-09-17   1.0      1            0   \n",
       "1          2      3          4  2015-09-17   1.0      1            0   \n",
       "2          3      7          4  2015-09-17   1.0      1            0   \n",
       "3          4      8          4  2015-09-17   1.0      1            0   \n",
       "4          5      9          4  2015-09-17   1.0      1            0   \n",
       "...      ...    ...        ...         ...   ...    ...          ...   \n",
       "41083  41084   1111          6  2015-08-01   1.0      0            0   \n",
       "41084  41085   1112          6  2015-08-01   1.0      0            0   \n",
       "41085  41086   1113          6  2015-08-01   1.0      0            0   \n",
       "41086  41087   1114          6  2015-08-01   1.0      0            0   \n",
       "41087  41088   1115          6  2015-08-01   1.0      0            0   \n",
       "\n",
       "       SchoolHoliday  \n",
       "0                  0  \n",
       "1                  0  \n",
       "2                  0  \n",
       "3                  0  \n",
       "4                  0  \n",
       "...              ...  \n",
       "41083              0  \n",
       "41084              0  \n",
       "41085              0  \n",
       "41086              0  \n",
       "41087              1  \n",
       "\n",
       "[41088 rows x 8 columns]"
      ]
     },
     "execution_count": 6,
     "metadata": {},
     "output_type": "execute_result"
    }
   ],
   "source": [
    "cl_testdata = pd.read_csv('cl.testdata.csv')\n",
    "cl_testdata"
   ]
  },
  {
   "cell_type": "markdown",
   "id": "6a87337f",
   "metadata": {},
   "source": [
    "# 2.2 Building models with sklearn pipelines"
   ]
  },
  {
   "cell_type": "markdown",
   "id": "73e20073",
   "metadata": {},
   "source": [
    "At this point, all our features are numeric. Since our problem is a regression problem, you can narrow down the list of algorithms you can use for modelling. \n",
    "\n",
    "A reasonable starting point will be to use any of the tree based algorithms. Random forests Regressor will make for a good start. \n",
    "\n",
    "Also, for the sake of this challenge, work with sklearn pipelines. This makes modeling modular and more reproducible. Working with pipelines will also significantly reduce your workload when you are moving your setup into files for the next part of the challenge. Extra marks will be awarded for doing this.\n"
   ]
  },
  {
   "cell_type": "code",
   "execution_count": 7,
   "id": "68892b61",
   "metadata": {},
   "outputs": [],
   "source": [
    "import numpy as np\n",
    "import pandas as pd\n",
    "from sklearn.compose import ColumnTransformer\n",
    "from sklearn.ensemble import RandomForestRegressor\n",
    "from sklearn.impute import SimpleImputer\n",
    "from sklearn.pipeline import Pipeline\n",
    "from sklearn.model_selection import train_test_split\n",
    "from sklearn.metrics import mean_squared_error\n",
    "from sklearn.preprocessing import StandardScaler\n",
    "from sklearn.preprocessing import LabelEncoder\n",
    "from sklearn.preprocessing import StandardScaler, OneHotEncoder"
   ]
  },
  {
   "cell_type": "code",
   "execution_count": 8,
   "id": "832201d8",
   "metadata": {},
   "outputs": [
    {
     "name": "stdout",
     "output_type": "stream",
     "text": [
      "Mean Squared Error on Validation Set: 428813.8632011196\n"
     ]
    }
   ],
   "source": [
    "# Define the preprocessing steps for each column\n",
    "preprocessor = ColumnTransformer(\n",
    "    transformers=[\n",
    "        ('num', StandardScaler(), ['Store', 'DayOfWeek', 'Customers', 'Open', 'Promo'])\n",
    "    ])\n",
    "\n",
    "# Initialize the Random Forest Regressor\n",
    "model = RandomForestRegressor(n_estimators=10, random_state=42)\n",
    "\n",
    "# Assuming 'train_data' contains both features and target variable\n",
    "X = cl_traindata[['Store', 'DayOfWeek', 'Customers', 'Open', 'Promo']]  # Drop the target variable column\n",
    "y = cl_traindata['Sales']  # This is your target variable\n",
    "X_train, X_val, y_train, y_val = train_test_split(X, y, test_size=0.2, random_state=42)\n",
    "\n",
    "# Train the model on the training data\n",
    "model.fit(X_train, y_train)\n",
    "\n",
    "# Create the pipeline\n",
    "pipeline = Pipeline(steps=[\n",
    "    ('preprocessor', preprocessor),\n",
    "    ('model', model)\n",
    "])\n",
    "\n",
    "\n",
    "# Fit the model using the pipeline\n",
    "pipeline.fit(X_train, y_train)\n",
    "\n",
    "# Make predictions on the validation set\n",
    "y_val_pred = pipeline.predict(X_val)\n",
    "\n",
    "# Evaluate the model\n",
    "mse = mean_squared_error(y_val, y_val_pred)\n",
    "print(f'Mean Squared Error on Validation Set: {mse}')"
   ]
  },
  {
   "cell_type": "code",
   "execution_count": 9,
   "id": "92a8b2c1",
   "metadata": {},
   "outputs": [
    {
     "data": {
      "text/plain": [
       "((813767, 5), (203442, 5), (813767,), (203442,))"
      ]
     },
     "execution_count": 9,
     "metadata": {},
     "output_type": "execute_result"
    }
   ],
   "source": [
    "X_train.shape, X_val.shape, y_train.shape, y_val.shape"
   ]
  },
  {
   "cell_type": "markdown",
   "id": "c8f953d7",
   "metadata": {},
   "source": [
    "# 2.3 Choose a loss function"
   ]
  },
  {
   "cell_type": "markdown",
   "id": "a742cd34",
   "metadata": {},
   "source": [
    "# Method-1\n",
    "**Certainly! Loss functions play a crucial role in training machine learning models. For sales prediction or regression tasks, Mean Squared Error (MSE) is a commonly used loss function.**\n",
    "\n",
    "Here's how can implement the Mean Squared Error (MSE) loss function in Python:"
   ]
  },
  {
   "cell_type": "code",
   "execution_count": 10,
   "id": "0886a51e",
   "metadata": {},
   "outputs": [
    {
     "name": "stdout",
     "output_type": "stream",
     "text": [
      "Mean Squared Error: 428813.8632011196\n"
     ]
    }
   ],
   "source": [
    "def mean_squared_error(y_val, y_val_pred):\n",
    "    \"\"\"\n",
    "    Compute the mean squared error between true and predicted values.\n",
    "    \n",
    "    Parameters:\n",
    "    - y_val: numpy array, values\n",
    "    - y_val_pred: numpy array, predicted values\n",
    "    \n",
    "    Returns:\n",
    "    - float, mean squared error\n",
    "    \"\"\"\n",
    "    return np.mean((y_val - y_val_pred)**2)\n",
    "\n",
    "\n",
    "mse_value = mean_squared_error(y_val, y_val_pred)\n",
    "print(f\"Mean Squared Error: {mse_value}\")"
   ]
  },
  {
   "cell_type": "markdown",
   "id": "2d4d17f7",
   "metadata": {},
   "source": [
    "# Method-2\n",
    "**Defense for Choosing Quantile Loss**\n",
    "**1.Quantile Prediction:** By focusing on specific quantiles (e.g., median, 10th percentile, etc.), we can provide a more nuanced understanding of the sales distribution. This is beneficial for businesses that want to understand the variability and uncertainty associated with sales predictions.\n",
    "\n",
    "**2.Robustness:** The Quantile Loss function can handle scenarios where underestimating or overestimating sales has different costs or implications. For instance, underestimating sales might lead to stockouts, while overestimating could result in excess inventory costs.\n",
    "\n",
    "**3.Interpretability:** Predicting multiple quantiles provides a comprehensive view of the sales landscape. Stakeholders can use this information to make informed decisions based on different scenarios or risk tolerances.\n",
    "\n",
    "**Conclusion**\n",
    "While traditional loss functions like Mean Squared Error (MSE) or Mean Absolute Error (MAE) provide insights into average prediction errors, the Quantile Loss function offers a more granular and interpretable approach. Given the variability and uncertainty inherent in sales predictions, focusing on quantiles can provide richer insights and more actionable recommendations for businesses."
   ]
  },
  {
   "cell_type": "code",
   "execution_count": 11,
   "id": "b964cfda",
   "metadata": {},
   "outputs": [
    {
     "name": "stdout",
     "output_type": "stream",
     "text": [
      "quantile_loss: 188.74776226269813\n"
     ]
    }
   ],
   "source": [
    "def quantile_loss(y_val, y_val_pred, quantile=0.5):\n",
    "    \"\"\"\n",
    "    Compute the quantile loss between true values (y_val) and predicted values (y_val_pred).\n",
    "    \n",
    "    Parameters:\n",
    "    - y_val: array-like, true values\n",
    "    - y_val_pred: array-like, predicted values\n",
    "    - quantile: float, quantile level (default is 0.5 for median)\n",
    "    \n",
    "    Returns:\n",
    "    - Quantile loss\n",
    "    \"\"\"\n",
    "    residual = y_val - y_val_pred\n",
    "    return np.maximum(quantile * residual, (quantile - 1) * residual).mean()\n",
    "\n",
    "loss = quantile_loss(y_val, y_val_pred)\n",
    "    \n",
    "print(f\"quantile_loss: {loss}\")"
   ]
  },
  {
   "cell_type": "markdown",
   "id": "73ca4213",
   "metadata": {},
   "source": [
    "# 2.4 Post Prediction analysis"
   ]
  },
  {
   "cell_type": "markdown",
   "id": "ff4b2dbd",
   "metadata": {},
   "source": [
    "After building a model for sales prediction, it's essential to perform post-prediction analysis to understand the model's performance and interpretability. Here's a step-by-step guide on how you can explore feature importance and estimate confidence intervals for your predictions:\n",
    "\n",
    "1. Feature Importance:\n",
    "a. For Linear Models:\n",
    "If you're using linear regression or similar models, you can directly observe the coefficients (weights) assigned to each feature. A higher absolute value of a coefficient typically indicates higher importance."
   ]
  },
  {
   "cell_type": "code",
   "execution_count": 12,
   "id": "e26aa734",
   "metadata": {},
   "outputs": [
    {
     "name": "stdout",
     "output_type": "stream",
     "text": [
      "Feature Importance: [-1.49229936e-01 -5.62126037e+01  6.07197020e+00  1.67794248e+03\n",
      "  1.27969324e+03]\n"
     ]
    }
   ],
   "source": [
    "from sklearn.linear_model import LinearRegression\n",
    "\n",
    "# Fit the model\n",
    "model = LinearRegression().fit(X_train, y_train)\n",
    "\n",
    "\n",
    "# Get feature importance\n",
    "feature_importance = model.coef_\n",
    "print(\"Feature Importance:\", feature_importance)"
   ]
  },
  {
   "cell_type": "code",
   "execution_count": 13,
   "id": "5ea31c98",
   "metadata": {},
   "outputs": [
    {
     "data": {
      "text/html": [
       "<style>#sk-container-id-1 {color: black;background-color: white;}#sk-container-id-1 pre{padding: 0;}#sk-container-id-1 div.sk-toggleable {background-color: white;}#sk-container-id-1 label.sk-toggleable__label {cursor: pointer;display: block;width: 100%;margin-bottom: 0;padding: 0.3em;box-sizing: border-box;text-align: center;}#sk-container-id-1 label.sk-toggleable__label-arrow:before {content: \"▸\";float: left;margin-right: 0.25em;color: #696969;}#sk-container-id-1 label.sk-toggleable__label-arrow:hover:before {color: black;}#sk-container-id-1 div.sk-estimator:hover label.sk-toggleable__label-arrow:before {color: black;}#sk-container-id-1 div.sk-toggleable__content {max-height: 0;max-width: 0;overflow: hidden;text-align: left;background-color: #f0f8ff;}#sk-container-id-1 div.sk-toggleable__content pre {margin: 0.2em;color: black;border-radius: 0.25em;background-color: #f0f8ff;}#sk-container-id-1 input.sk-toggleable__control:checked~div.sk-toggleable__content {max-height: 200px;max-width: 100%;overflow: auto;}#sk-container-id-1 input.sk-toggleable__control:checked~label.sk-toggleable__label-arrow:before {content: \"▾\";}#sk-container-id-1 div.sk-estimator input.sk-toggleable__control:checked~label.sk-toggleable__label {background-color: #d4ebff;}#sk-container-id-1 div.sk-label input.sk-toggleable__control:checked~label.sk-toggleable__label {background-color: #d4ebff;}#sk-container-id-1 input.sk-hidden--visually {border: 0;clip: rect(1px 1px 1px 1px);clip: rect(1px, 1px, 1px, 1px);height: 1px;margin: -1px;overflow: hidden;padding: 0;position: absolute;width: 1px;}#sk-container-id-1 div.sk-estimator {font-family: monospace;background-color: #f0f8ff;border: 1px dotted black;border-radius: 0.25em;box-sizing: border-box;margin-bottom: 0.5em;}#sk-container-id-1 div.sk-estimator:hover {background-color: #d4ebff;}#sk-container-id-1 div.sk-parallel-item::after {content: \"\";width: 100%;border-bottom: 1px solid gray;flex-grow: 1;}#sk-container-id-1 div.sk-label:hover label.sk-toggleable__label {background-color: #d4ebff;}#sk-container-id-1 div.sk-serial::before {content: \"\";position: absolute;border-left: 1px solid gray;box-sizing: border-box;top: 0;bottom: 0;left: 50%;z-index: 0;}#sk-container-id-1 div.sk-serial {display: flex;flex-direction: column;align-items: center;background-color: white;padding-right: 0.2em;padding-left: 0.2em;position: relative;}#sk-container-id-1 div.sk-item {position: relative;z-index: 1;}#sk-container-id-1 div.sk-parallel {display: flex;align-items: stretch;justify-content: center;background-color: white;position: relative;}#sk-container-id-1 div.sk-item::before, #sk-container-id-1 div.sk-parallel-item::before {content: \"\";position: absolute;border-left: 1px solid gray;box-sizing: border-box;top: 0;bottom: 0;left: 50%;z-index: -1;}#sk-container-id-1 div.sk-parallel-item {display: flex;flex-direction: column;z-index: 1;position: relative;background-color: white;}#sk-container-id-1 div.sk-parallel-item:first-child::after {align-self: flex-end;width: 50%;}#sk-container-id-1 div.sk-parallel-item:last-child::after {align-self: flex-start;width: 50%;}#sk-container-id-1 div.sk-parallel-item:only-child::after {width: 0;}#sk-container-id-1 div.sk-dashed-wrapped {border: 1px dashed gray;margin: 0 0.4em 0.5em 0.4em;box-sizing: border-box;padding-bottom: 0.4em;background-color: white;}#sk-container-id-1 div.sk-label label {font-family: monospace;font-weight: bold;display: inline-block;line-height: 1.2em;}#sk-container-id-1 div.sk-label-container {text-align: center;}#sk-container-id-1 div.sk-container {/* jupyter's `normalize.less` sets `[hidden] { display: none; }` but bootstrap.min.css set `[hidden] { display: none !important; }` so we also need the `!important` here to be able to override the default hidden behavior on the sphinx rendered scikit-learn.org. See: https://github.com/scikit-learn/scikit-learn/issues/21755 */display: inline-block !important;position: relative;}#sk-container-id-1 div.sk-text-repr-fallback {display: none;}</style><div id=\"sk-container-id-1\" class=\"sk-top-container\"><div class=\"sk-text-repr-fallback\"><pre>LinearRegression()</pre><b>In a Jupyter environment, please rerun this cell to show the HTML representation or trust the notebook. <br />On GitHub, the HTML representation is unable to render, please try loading this page with nbviewer.org.</b></div><div class=\"sk-container\" hidden><div class=\"sk-item\"><div class=\"sk-estimator sk-toggleable\"><input class=\"sk-toggleable__control sk-hidden--visually\" id=\"sk-estimator-id-1\" type=\"checkbox\" checked><label for=\"sk-estimator-id-1\" class=\"sk-toggleable__label sk-toggleable__label-arrow\">LinearRegression</label><div class=\"sk-toggleable__content\"><pre>LinearRegression()</pre></div></div></div></div></div>"
      ],
      "text/plain": [
       "LinearRegression()"
      ]
     },
     "execution_count": 13,
     "metadata": {},
     "output_type": "execute_result"
    }
   ],
   "source": [
    "lr = LinearRegression()\n",
    "lr"
   ]
  },
  {
   "cell_type": "code",
   "execution_count": 14,
   "id": "ca344464",
   "metadata": {},
   "outputs": [
    {
     "data": {
      "text/html": [
       "<style>#sk-container-id-2 {color: black;background-color: white;}#sk-container-id-2 pre{padding: 0;}#sk-container-id-2 div.sk-toggleable {background-color: white;}#sk-container-id-2 label.sk-toggleable__label {cursor: pointer;display: block;width: 100%;margin-bottom: 0;padding: 0.3em;box-sizing: border-box;text-align: center;}#sk-container-id-2 label.sk-toggleable__label-arrow:before {content: \"▸\";float: left;margin-right: 0.25em;color: #696969;}#sk-container-id-2 label.sk-toggleable__label-arrow:hover:before {color: black;}#sk-container-id-2 div.sk-estimator:hover label.sk-toggleable__label-arrow:before {color: black;}#sk-container-id-2 div.sk-toggleable__content {max-height: 0;max-width: 0;overflow: hidden;text-align: left;background-color: #f0f8ff;}#sk-container-id-2 div.sk-toggleable__content pre {margin: 0.2em;color: black;border-radius: 0.25em;background-color: #f0f8ff;}#sk-container-id-2 input.sk-toggleable__control:checked~div.sk-toggleable__content {max-height: 200px;max-width: 100%;overflow: auto;}#sk-container-id-2 input.sk-toggleable__control:checked~label.sk-toggleable__label-arrow:before {content: \"▾\";}#sk-container-id-2 div.sk-estimator input.sk-toggleable__control:checked~label.sk-toggleable__label {background-color: #d4ebff;}#sk-container-id-2 div.sk-label input.sk-toggleable__control:checked~label.sk-toggleable__label {background-color: #d4ebff;}#sk-container-id-2 input.sk-hidden--visually {border: 0;clip: rect(1px 1px 1px 1px);clip: rect(1px, 1px, 1px, 1px);height: 1px;margin: -1px;overflow: hidden;padding: 0;position: absolute;width: 1px;}#sk-container-id-2 div.sk-estimator {font-family: monospace;background-color: #f0f8ff;border: 1px dotted black;border-radius: 0.25em;box-sizing: border-box;margin-bottom: 0.5em;}#sk-container-id-2 div.sk-estimator:hover {background-color: #d4ebff;}#sk-container-id-2 div.sk-parallel-item::after {content: \"\";width: 100%;border-bottom: 1px solid gray;flex-grow: 1;}#sk-container-id-2 div.sk-label:hover label.sk-toggleable__label {background-color: #d4ebff;}#sk-container-id-2 div.sk-serial::before {content: \"\";position: absolute;border-left: 1px solid gray;box-sizing: border-box;top: 0;bottom: 0;left: 50%;z-index: 0;}#sk-container-id-2 div.sk-serial {display: flex;flex-direction: column;align-items: center;background-color: white;padding-right: 0.2em;padding-left: 0.2em;position: relative;}#sk-container-id-2 div.sk-item {position: relative;z-index: 1;}#sk-container-id-2 div.sk-parallel {display: flex;align-items: stretch;justify-content: center;background-color: white;position: relative;}#sk-container-id-2 div.sk-item::before, #sk-container-id-2 div.sk-parallel-item::before {content: \"\";position: absolute;border-left: 1px solid gray;box-sizing: border-box;top: 0;bottom: 0;left: 50%;z-index: -1;}#sk-container-id-2 div.sk-parallel-item {display: flex;flex-direction: column;z-index: 1;position: relative;background-color: white;}#sk-container-id-2 div.sk-parallel-item:first-child::after {align-self: flex-end;width: 50%;}#sk-container-id-2 div.sk-parallel-item:last-child::after {align-self: flex-start;width: 50%;}#sk-container-id-2 div.sk-parallel-item:only-child::after {width: 0;}#sk-container-id-2 div.sk-dashed-wrapped {border: 1px dashed gray;margin: 0 0.4em 0.5em 0.4em;box-sizing: border-box;padding-bottom: 0.4em;background-color: white;}#sk-container-id-2 div.sk-label label {font-family: monospace;font-weight: bold;display: inline-block;line-height: 1.2em;}#sk-container-id-2 div.sk-label-container {text-align: center;}#sk-container-id-2 div.sk-container {/* jupyter's `normalize.less` sets `[hidden] { display: none; }` but bootstrap.min.css set `[hidden] { display: none !important; }` so we also need the `!important` here to be able to override the default hidden behavior on the sphinx rendered scikit-learn.org. See: https://github.com/scikit-learn/scikit-learn/issues/21755 */display: inline-block !important;position: relative;}#sk-container-id-2 div.sk-text-repr-fallback {display: none;}</style><div id=\"sk-container-id-2\" class=\"sk-top-container\"><div class=\"sk-text-repr-fallback\"><pre>LinearRegression()</pre><b>In a Jupyter environment, please rerun this cell to show the HTML representation or trust the notebook. <br />On GitHub, the HTML representation is unable to render, please try loading this page with nbviewer.org.</b></div><div class=\"sk-container\" hidden><div class=\"sk-item\"><div class=\"sk-estimator sk-toggleable\"><input class=\"sk-toggleable__control sk-hidden--visually\" id=\"sk-estimator-id-2\" type=\"checkbox\" checked><label for=\"sk-estimator-id-2\" class=\"sk-toggleable__label sk-toggleable__label-arrow\">LinearRegression</label><div class=\"sk-toggleable__content\"><pre>LinearRegression()</pre></div></div></div></div></div>"
      ],
      "text/plain": [
       "LinearRegression()"
      ]
     },
     "execution_count": 14,
     "metadata": {},
     "output_type": "execute_result"
    }
   ],
   "source": [
    "lr.fit(X_train, y_train)"
   ]
  },
  {
   "cell_type": "code",
   "execution_count": 15,
   "id": "b9b82301",
   "metadata": {},
   "outputs": [
    {
     "data": {
      "text/plain": [
       "array([ -87.86556471,  -52.64729973, 6257.12315361, ..., 8304.4054638 ,\n",
       "       6390.01586512, 9333.86925836])"
      ]
     },
     "execution_count": 15,
     "metadata": {},
     "output_type": "execute_result"
    }
   ],
   "source": [
    "y_pred = lr.predict(X_train)\n",
    "y_pred"
   ]
  },
  {
   "cell_type": "code",
   "execution_count": 16,
   "id": "d0ad52ce",
   "metadata": {},
   "outputs": [
    {
     "data": {
      "text/plain": [
       "array([ -128.45610741,  7424.92299491,  8601.89540481, ...,\n",
       "        4003.31772003,   -84.73173605, 12941.97443006])"
      ]
     },
     "execution_count": 16,
     "metadata": {},
     "output_type": "execute_result"
    }
   ],
   "source": [
    "y_testresult = lr.predict(X_val)\n",
    "y_testresult"
   ]
  },
  {
   "cell_type": "code",
   "execution_count": 17,
   "id": "c1d84082",
   "metadata": {},
   "outputs": [
    {
     "data": {
      "text/plain": [
       "0.8507065215168227"
      ]
     },
     "execution_count": 17,
     "metadata": {},
     "output_type": "execute_result"
    }
   ],
   "source": [
    "accuracy = lr.score(X_val,y_val)\n",
    "accuracy"
   ]
  },
  {
   "cell_type": "markdown",
   "id": "7cf4a982",
   "metadata": {},
   "source": [
    "# 2.5 Serialize models\n",
    "To serve the models you built above, you need to serialize them. Save the model with the timestamp(eg. 10-08-2020-16-32-31-00.pkl). This is necessary so that you can track predictions from various models.\n",
    "\n",
    "Assume that you’ll make daily predictions. This means you’ll have various models for predictions hence the reason for serializing the models in the format above. \n"
   ]
  },
  {
   "cell_type": "code",
   "execution_count": 18,
   "id": "8bbd49c1",
   "metadata": {},
   "outputs": [
    {
     "name": "stdout",
     "output_type": "stream",
     "text": [
      "Feature Importance: [-1.49229936e-01 -5.62126037e+01  6.07197020e+00  1.67794248e+03\n",
      "  1.27969324e+03]\n",
      "Model saved as model_2024-02-06-12-02-41-908.pkl\n"
     ]
    }
   ],
   "source": [
    "import joblib\n",
    "from sklearn.linear_model import LinearRegression\n",
    "from datetime import datetime\n",
    "\n",
    "# Assuming you have already trained your model (e.g., linear regression)\n",
    "model = LinearRegression().fit(X_train, y_train)\n",
    "\n",
    "# Get feature importance\n",
    "feature_importance = model.coef_\n",
    "print(\"Feature Importance:\", feature_importance)\n",
    "\n",
    "# Serialize the model with a timestamp\n",
    "timestamp = datetime.now().strftime(\"%Y-%m-%d-%H-%M-%S-%f\")[:-3]  # Format: YYYY-MM-DD-HH-MM-SS-SSS\n",
    "model_filename = f\"model_{timestamp}.pkl\"\n",
    "\n",
    "# Save the model\n",
    "joblib.dump(model, model_filename)\n",
    "print(f\"Model saved as {model_filename}\")"
   ]
  },
  {
   "cell_type": "code",
   "execution_count": null,
   "id": "62967e34-b9c2-44f1-95a1-c1e3ed9eeeb6",
   "metadata": {},
   "outputs": [],
   "source": []
  },
  {
   "cell_type": "markdown",
   "id": "f7a617e2",
   "metadata": {},
   "source": [
    "# 2.6 Building model with deep learning \n",
    "Deep Learning techniques can be used to predict various outcomes including but not limited to future sales. Your task is to create a deep learning model of the Long Short Term Memory which is a type of Recurrent Neural Network . \n",
    "\n",
    "You can use either Tensorflow or Pytorch libraries for model building. The model should not be very deep (Two layers) due to the computational requirements, it should comfortably run in google colab. \n",
    "Isolate the Rossmann Store Sales dataset into time series data\n"
   ]
  },
  {
   "cell_type": "markdown",
   "id": "01bab9f6",
   "metadata": {},
   "source": [
    "# 1. Preparing the Data:\n",
    "First, we need to prepare the data in a suitable format for time series forecasting. This involves splitting the data into training and test sets and normalizing it."
   ]
  },
  {
   "cell_type": "code",
   "execution_count": 19,
   "id": "2d9e5cae",
   "metadata": {},
   "outputs": [
    {
     "data": {
      "text/plain": [
       "array([[0.00000000e+00, 6.66666667e-01, 1.26663618e-01, ...,\n",
       "        1.00000000e+00, 2.50000000e-01, 1.00000000e+00],\n",
       "       [8.97666068e-04, 6.66666667e-01, 1.45941133e-01, ...,\n",
       "        1.00000000e+00, 2.50000000e-01, 1.00000000e+00],\n",
       "       [1.79533214e-03, 6.66666667e-01, 2.00091454e-01, ...,\n",
       "        1.00000000e+00, 2.50000000e-01, 1.00000000e+00],\n",
       "       ...,\n",
       "       [9.98204668e-01, 1.66666667e-01, 0.00000000e+00, ...,\n",
       "        0.00000000e+00, 5.00000000e-01, 1.00000000e+00],\n",
       "       [9.99102334e-01, 1.66666667e-01, 0.00000000e+00, ...,\n",
       "        0.00000000e+00, 5.00000000e-01, 1.00000000e+00],\n",
       "       [1.00000000e+00, 1.66666667e-01, 0.00000000e+00, ...,\n",
       "        0.00000000e+00, 5.00000000e-01, 1.00000000e+00]])"
      ]
     },
     "execution_count": 19,
     "metadata": {},
     "output_type": "execute_result"
    }
   ],
   "source": [
    "from sklearn.preprocessing import MinMaxScaler\n",
    "import numpy as np\n",
    "\n",
    "# Assuming cl_traindata and cl_testdata are your DataFrames\n",
    "# and they have been loaded with appropriate data\n",
    "\n",
    "# Get numerical columns from cl_traindata and cl_testdata\n",
    "numerical_columns_train = cl_traindata.select_dtypes(include=[np.number]).columns\n",
    "\n",
    "# Remove 'Id' column from the list of numerical columns (if it exists)\n",
    "numerical_columns_train = [col for col in numerical_columns_train if col != 'Date']\n",
    "\n",
    "\n",
    "# Ensure consistent column names by selecting common columns\n",
    "common_columns = [col for col in numerical_columns_train]\n",
    "\n",
    "# Scaling the data using MinMaxScaler\n",
    "scaler = MinMaxScaler()\n",
    "\n",
    "# Scale the train and test data using the common columns\n",
    "train_scaled = scaler.fit_transform(cl_traindata[common_columns])\n",
    "\n",
    "\n",
    "# If you want to view the scaled data\n",
    "train_scaled\n"
   ]
  },
  {
   "cell_type": "markdown",
   "id": "6fda7ac7",
   "metadata": {},
   "source": [
    "**1. Isolate the Rossmann Store Sales dataset into time series data**"
   ]
  },
  {
   "cell_type": "code",
   "execution_count": 20,
   "id": "3fa44b85",
   "metadata": {},
   "outputs": [],
   "source": [
    "Store_train = cl_traindata.merge(cl_Storedata,on = 'Store' , copy = False)"
   ]
  },
  {
   "cell_type": "code",
   "execution_count": 21,
   "id": "a64930fb",
   "metadata": {},
   "outputs": [],
   "source": [
    "Store_train1 = Store_train.copy()"
   ]
  },
  {
   "cell_type": "code",
   "execution_count": 22,
   "id": "9bdaeac5",
   "metadata": {},
   "outputs": [
    {
     "name": "stdout",
     "output_type": "stream",
     "text": [
      "<class 'pandas.core.frame.DataFrame'>\n",
      "Int64Index: 1017209 entries, 0 to 1017208\n",
      "Data columns (total 18 columns):\n",
      " #   Column                     Non-Null Count    Dtype  \n",
      "---  ------                     --------------    -----  \n",
      " 0   Store                      1017209 non-null  int64  \n",
      " 1   DayOfWeek                  1017209 non-null  int64  \n",
      " 2   Date                       1017209 non-null  object \n",
      " 3   Sales                      1017209 non-null  int64  \n",
      " 4   Customers                  1017209 non-null  int64  \n",
      " 5   Open                       1017209 non-null  int64  \n",
      " 6   Promo                      1017209 non-null  int64  \n",
      " 7   StateHoliday               1017209 non-null  int64  \n",
      " 8   SchoolHoliday              1017209 non-null  int64  \n",
      " 9   StoreType                  1017209 non-null  object \n",
      " 10  Assortment                 1017209 non-null  object \n",
      " 11  CompetitionDistance        1017209 non-null  float64\n",
      " 12  CompetitionOpenSinceMonth  1017209 non-null  float64\n",
      " 13  CompetitionOpenSinceYear   1017209 non-null  float64\n",
      " 14  Promo2                     1017209 non-null  int64  \n",
      " 15  Promo2SinceWeek            1017209 non-null  float64\n",
      " 16  Promo2SinceYear            1017209 non-null  float64\n",
      " 17  PromoInterval              509178 non-null   object \n",
      "dtypes: float64(5), int64(9), object(4)\n",
      "memory usage: 147.5+ MB\n"
     ]
    }
   ],
   "source": [
    "Store_train1.info()"
   ]
  },
  {
   "cell_type": "code",
   "execution_count": 23,
   "id": "4a407f90",
   "metadata": {},
   "outputs": [
    {
     "data": {
      "text/plain": [
       "<bound method NDFrame.head of             Store  DayOfWeek  Sales  Customers  Open  Promo  StateHoliday  \\\n",
       "Date                                                                        \n",
       "2013-01-01   1115          2      0          0     0      0             2   \n",
       "2013-01-01    746          2      0          0     0      0             2   \n",
       "2013-01-01    171          2      0          0     0      0             2   \n",
       "2013-01-01    694          2      0          0     0      0             2   \n",
       "2013-01-01    396          2      0          0     0      0             2   \n",
       "...           ...        ...    ...        ...   ...    ...           ...   \n",
       "2015-07-31    612          5   8161        493     1      1             1   \n",
       "2015-07-31    235          5   6756        548     1      1             1   \n",
       "2015-07-31   1078          5   9732        646     1      1             1   \n",
       "2015-07-31    845          5   5151        378     1      1             1   \n",
       "2015-07-31      1          5   5263        555     1      1             1   \n",
       "\n",
       "            SchoolHoliday StoreType Assortment  CompetitionDistance  \\\n",
       "Date                                                                  \n",
       "2013-01-01              1         d          c               5350.0   \n",
       "2013-01-01              1         d          c               4330.0   \n",
       "2013-01-01              1         a          a               2640.0   \n",
       "2013-01-01              1         a          c                460.0   \n",
       "2013-01-01              1         a          c              23130.0   \n",
       "...                   ...       ...        ...                  ...   \n",
       "2015-07-31              0         d          c               2490.0   \n",
       "2015-07-31              1         a          a               5710.0   \n",
       "2015-07-31              1         d          c                670.0   \n",
       "2015-07-31              1         d          a               7860.0   \n",
       "2015-07-31              1         c          a               1270.0   \n",
       "\n",
       "            CompetitionOpenSinceMonth  CompetitionOpenSinceYear  Promo2  \\\n",
       "Date                                                                      \n",
       "2013-01-01                   7.224704               2008.668857       1   \n",
       "2013-01-01                   2.000000               2011.000000       1   \n",
       "2013-01-01                   7.224704               2008.668857       0   \n",
       "2013-01-01                  11.000000               2012.000000       1   \n",
       "2013-01-01                   7.224704               2008.668857       0   \n",
       "...                               ...                       ...     ...   \n",
       "2015-07-31                  11.000000               2012.000000       1   \n",
       "2015-07-31                   3.000000               2012.000000       1   \n",
       "2015-07-31                   7.224704               2008.668857       1   \n",
       "2015-07-31                  11.000000               2005.000000       1   \n",
       "2015-07-31                   9.000000               2008.000000       0   \n",
       "\n",
       "            Promo2SinceWeek  Promo2SinceYear     PromoInterval  \n",
       "Date                                                            \n",
       "2013-01-01        22.000000      2012.000000  Mar,Jun,Sept,Dec  \n",
       "2013-01-01        35.000000      2011.000000  Mar,Jun,Sept,Dec  \n",
       "2013-01-01        23.595447      2011.763573               NaN  \n",
       "2013-01-01        40.000000      2014.000000   Jan,Apr,Jul,Oct  \n",
       "2013-01-01        23.595447      2011.763573               NaN  \n",
       "...                     ...              ...               ...  \n",
       "2015-07-31        31.000000      2009.000000   Jan,Apr,Jul,Oct  \n",
       "2015-07-31        37.000000      2009.000000   Jan,Apr,Jul,Oct  \n",
       "2015-07-31        40.000000      2011.000000   Jan,Apr,Jul,Oct  \n",
       "2015-07-31        14.000000      2011.000000   Jan,Apr,Jul,Oct  \n",
       "2015-07-31        23.595447      2011.763573               NaN  \n",
       "\n",
       "[1017209 rows x 17 columns]>"
      ]
     },
     "execution_count": 23,
     "metadata": {},
     "output_type": "execute_result"
    }
   ],
   "source": [
    "Store_train['Date'] = pd.to_datetime(Store_train['Date'])\n",
    "\n",
    "# Set the 'Date' column as the index of the dataframe\n",
    "Store_train.set_index('Date', inplace=True)\n",
    "\n",
    "# Sort the dataframe based on the index (Date)\n",
    "Store_train.sort_index(inplace=True)\n",
    "\n",
    "# Display the first few rows of the dataframe to verify\n",
    "Store_train.head"
   ]
  },
  {
   "cell_type": "markdown",
   "id": "5e6df0a9",
   "metadata": {},
   "source": [
    "**2.Check whether your time Series Data is Stationary**"
   ]
  },
  {
   "cell_type": "code",
   "execution_count": 24,
   "id": "eedad184",
   "metadata": {},
   "outputs": [
    {
     "name": "stdout",
     "output_type": "stream",
     "text": [
      "ADF Statistic: -29.30038178441035\n",
      "p-value: 0.0\n",
      "Critical Values:\n",
      "\t1%: -3.430993794580203\n",
      "\t5%: -2.861824519401592\n",
      "\t10%: -2.5669214445350765\n",
      "The series is stationary.\n"
     ]
    }
   ],
   "source": [
    "from statsmodels.tsa.stattools import adfuller\n",
    "\n",
    "# Assuming 'Store_train' is the time series data\n",
    "result = adfuller(Store_train['Sales'].dropna().sample(frac=0.01))  # Taking 1% random sample\n",
    "\n",
    "print('ADF Statistic:', result[0])\n",
    "print('p-value:', result[1])\n",
    "print('Critical Values:')\n",
    "for key, value in result[4].items():\n",
    "    print(f'\\t{key}: {value}')\n",
    "\n",
    "if result[1] <= 0.05:\n",
    "    print(\"The series is stationary.\")\n",
    "else:\n",
    "    print(\"The series is non-stationary.\")"
   ]
  },
  {
   "cell_type": "markdown",
   "id": "784eb624",
   "metadata": {},
   "source": [
    "Too large to be processed in memory for the Augmented Dickey-Fuller (ADF) test. The ADF test is a popular method to check for stationarity in a time series, but its memory requirements can be substantial for large datasets.\n",
    "\n",
    "Given this constraint, let's consider a different approach to assess stationarity in your time series data:\n",
    "\n",
    "Visual Inspection: Plotting the time series data can be an effective way to visually inspect if the series appears to be stationary. Look for trends, seasonality, or any other patterns that may indicate non-stationarity.\n",
    "\n",
    "Decomposition: Decompose the time series into its trend, seasonal, and residual components. By examining these components separately, you can get insights into whether the series exhibits trends or seasonality that might violate stationarity assumptions.\n",
    "\n",
    "Sample Inspection: If the dataset is too large, consider working with smaller samples that can fit into memory for more intensive analyses. While this approach has limitations, it can be useful for exploratory data analysis.\n",
    "\n",
    "Summary Statistics: Calculate summary statistics such as mean, variance, and autocorrelation over different segments of the time series. Significant changes in these statistics over time may indicate non-stationarity.\n",
    "\n",
    "Rolling Statistics: Calculate rolling statistics (e.g., rolling mean and rolling standard deviation) and plot them alongside the original time series. If these statistics vary significantly over time, it may suggest that the series is non-stationary.\n",
    "\n",
    "Statistical Tests: Apart from the ADF test, consider other statistical tests like the KPSS (Kwiatkowski-Phillips-Schmidt-Shin) test, which can also be used to check for stationarity in time series data.\n",
    "\n",
    "In summary, while the ADF test is a powerful tool for checking stationarity, it's essential to adapt your approach based on the specific constraints and characteristics of your dataset. By employing alternative methods and tools, you can still gain valuable insights into the stationarity properties of your time series data."
   ]
  },
  {
   "cell_type": "markdown",
   "id": "8b879de9",
   "metadata": {},
   "source": [
    "# 1. Visual Inspection"
   ]
  },
  {
   "cell_type": "code",
   "execution_count": 25,
   "id": "48f96c68",
   "metadata": {},
   "outputs": [
    {
     "data": {
      "image/png": "[encoded data removed]",
      "text/plain": [
       "<Figure size 1400x700 with 1 Axes>"
      ]
     },
     "metadata": {},
     "output_type": "display_data"
    }
   ],
   "source": [
    "# Assuming 'Store_train' is your time series data\n",
    "plt.figure(figsize=(14, 7))\n",
    "plt.plot(Store_train['Sales'])\n",
    "plt.title('Time Series Data: Sales Over Time')\n",
    "plt.xlabel('Date')\n",
    "plt.ylabel('Sales')\n",
    "plt.grid(True)\n",
    "plt.show()"
   ]
  },
  {
   "cell_type": "markdown",
   "id": "9884c738",
   "metadata": {},
   "source": [
    "# 2. Decomposition"
   ]
  },
  {
   "cell_type": "code",
   "execution_count": 26,
   "id": "133e9996",
   "metadata": {},
   "outputs": [],
   "source": [
    "# # Convert the 'Date' column to datetime format and set it as the index\n",
    "# Store_train['Date'] = pd.to_datetime(Store_train['Date'])\n",
    "# Store_train.set_index('Date', inplace=True)\n",
    "\n",
    "# # Perform seasonal decomposition\n",
    "# from statsmodels.tsa.seasonal import seasonal_decompose\n",
    "\n",
    "# result = seasonal_decompose(Store_train['Sales'], model='additive')\n",
    "\n",
    "# # Plot the decomposed components\n",
    "# result.plot()\n",
    "# plt.show()"
   ]
  },
  {
   "cell_type": "markdown",
   "id": "495b696b",
   "metadata": {},
   "source": [
    "# 3. Sample Inspection"
   ]
  },
  {
   "cell_type": "code",
   "execution_count": 27,
   "id": "6eedf9c2",
   "metadata": {},
   "outputs": [],
   "source": [
    "sample_data = Store_train['Sales'].sample(frac=0.1)\n",
    "# You can then proceed to apply other methods to this sample_data"
   ]
  },
  {
   "cell_type": "markdown",
   "id": "7f0b95e5",
   "metadata": {},
   "source": [
    "# 4. Summary Statistics"
   ]
  },
  {
   "cell_type": "code",
   "execution_count": 28,
   "id": "da42a1bd",
   "metadata": {},
   "outputs": [
    {
     "name": "stdout",
     "output_type": "stream",
     "text": [
      "Mean: 5773.818972305593\n",
      "Variance: 14821931.554806003\n",
      "Autocorrelation: 0.5600558456033993\n"
     ]
    }
   ],
   "source": [
    "print(\"Mean:\", Store_train['Sales'].mean())\n",
    "print(\"Variance:\", Store_train['Sales'].var())\n",
    "print(\"Autocorrelation:\", Store_train['Sales'].autocorr())"
   ]
  },
  {
   "cell_type": "markdown",
   "id": "7b7fe559",
   "metadata": {},
   "source": [
    "# 5. Rolling Statistics"
   ]
  },
  {
   "cell_type": "code",
   "execution_count": 29,
   "id": "bf6efd37",
   "metadata": {},
   "outputs": [
    {
     "data": {
      "image/png": "[encoded data removed]",
      "text/plain": [
       "<Figure size 1400x700 with 1 Axes>"
      ]
     },
     "metadata": {},
     "output_type": "display_data"
    }
   ],
   "source": [
    "rolling_mean = Store_train['Sales'].rolling(window=30).mean()\n",
    "rolling_std = Store_train['Sales'].rolling(window=30).std()\n",
    "\n",
    "plt.figure(figsize=(14, 7))\n",
    "plt.plot(Store_train['Sales'], label='Original')\n",
    "plt.plot(rolling_mean, label='Rolling Mean')\n",
    "plt.plot(rolling_std, label='Rolling Std')\n",
    "plt.legend()\n",
    "plt.title('Rolling Statistics: Mean & Standard Deviation')\n",
    "plt.show()"
   ]
  },
  {
   "cell_type": "markdown",
   "id": "7b83691a",
   "metadata": {},
   "source": [
    "**3.Depending on your conclusion from 2 above difference your time series data**"
   ]
  },
  {
   "cell_type": "code",
   "execution_count": 30,
   "id": "0b73180d",
   "metadata": {},
   "outputs": [
    {
     "name": "stdout",
     "output_type": "stream",
     "text": [
      "The original time series is already stationary.\n"
     ]
    }
   ],
   "source": [
    "# Check the stationarity using the ADF test\n",
    "from statsmodels.tsa.stattools import adfuller\n",
    "\n",
    "result = adfuller(Store_train['Sales'].dropna().sample(frac=0.01))  # Using a 1% random sample\n",
    "p_value = result[1]\n",
    "\n",
    "# Assuming 0.05 as the significance level\n",
    "if p_value > 0.05:\n",
    "    # Time series is non-stationary, so let's difference it\n",
    "    Store_train['Sales'] = Store_train['Sales'].diff().dropna()\n",
    "\n",
    "    # Plot the differenced series\n",
    "    Store_train['Sales'].plot(title='Differenced Time Series')\n",
    "    plt.show()\n",
    "\n",
    "    # Check the stationarity again\n",
    "    result_after_diff = adfuller(Store_train['Sales'].dropna())\n",
    "    p_value_after_diff = result_after_diff[1]\n",
    "\n",
    "    if p_value_after_diff <= 0.05:\n",
    "        print(\"The differenced time series is now stationary.\")\n",
    "    else:\n",
    "        print(\"Differencing did not make the time series stationary.\")\n",
    "else:\n",
    "    print(\"The original time series is already stationary.\")"
   ]
  },
  {
   "cell_type": "markdown",
   "id": "239de853",
   "metadata": {},
   "source": [
    "This code checks the stationarity of the original time series using the ADF test. If it's non-stationary (p-value > 0.05), it applies differencing and plots the differenced series. It then checks the stationarity of the differenced series. If the differenced series is stationary (p-value ≤ 0.05), it prints a message indicating success."
   ]
  },
  {
   "cell_type": "markdown",
   "id": "0b845a87",
   "metadata": {},
   "source": [
    "**4.Check for autocorrelation and partial autocorrelation of your data**"
   ]
  },
  {
   "cell_type": "code",
   "execution_count": 31,
   "id": "82a2fa76",
   "metadata": {},
   "outputs": [
    {
     "data": {
      "image/png": "[encoded data removed]",
      "text/plain": [
       "<Figure size 1200x600 with 1 Axes>"
      ]
     },
     "metadata": {},
     "output_type": "display_data"
    },
    {
     "data": {
      "image/png": "[encoded data removed]",
      "text/plain": [
       "<Figure size 1200x600 with 1 Axes>"
      ]
     },
     "metadata": {},
     "output_type": "display_data"
    }
   ],
   "source": [
    "import matplotlib.pyplot as plt\n",
    "from statsmodels.graphics.tsaplots import plot_acf, plot_pacf\n",
    "\n",
    "# Assuming 'Store_train' is the time series data\n",
    "sales_series = Store_train['Sales'].dropna()\n",
    "\n",
    "# Plot Autocorrelation Function (ACF)\n",
    "plt.figure(figsize=(12, 6))\n",
    "plot_acf(sales_series, lags=50, ax=plt.gca(), title='Autocorrelation Function (ACF)')\n",
    "plt.show()\n",
    "\n",
    "# Plot Partial Autocorrelation Function (PACF)\n",
    "plt.figure(figsize=(12, 6))\n",
    "plot_pacf(sales_series, lags=50, ax=plt.gca(), title='Partial Autocorrelation Function (PACF)')\n",
    "plt.show()"
   ]
  },
  {
   "cell_type": "markdown",
   "id": "5a316a7b",
   "metadata": {},
   "source": [
    "**5.Transform the time series data into supervised learning data by creating a new y(target) column. For example as illustrated here in the Sliding Window For Time Series Data section**"
   ]
  },
  {
   "cell_type": "code",
   "execution_count": 32,
   "id": "76c63fc4",
   "metadata": {},
   "outputs": [
    {
     "name": "stdout",
     "output_type": "stream",
     "text": [
      "            Sales  Sales_Lag_1  Sales_Lag_2  Sales_Lag_3\n",
      "Date                                                    \n",
      "2013-01-01      0          0.0          0.0          0.0\n",
      "2013-01-01      0          0.0          0.0          0.0\n",
      "2013-01-01      0          0.0          0.0          0.0\n",
      "2013-01-01      0          0.0          0.0          0.0\n",
      "2013-01-01      0          0.0          0.0          0.0\n"
     ]
    }
   ],
   "source": [
    "# Assuming 'Store_train' is the time series data\n",
    "sales_series = Store_train['Sales'].dropna()\n",
    "\n",
    "# Define the number of lag observations\n",
    "n_lags = 3  # You can adjust this based on your requirement\n",
    "\n",
    "# Create a DataFrame with lagged columns\n",
    "df_supervised = pd.DataFrame({'Sales': sales_series})\n",
    "\n",
    "for i in range(1, n_lags + 1):\n",
    "    df_supervised[f'Sales_Lag_{i}'] = sales_series.shift(i)\n",
    "\n",
    "# Drop rows with NaN values introduced by shifting\n",
    "df_supervised = df_supervised.dropna()\n",
    "\n",
    "# Display the resulting DataFrame\n",
    "print(df_supervised.head())"
   ]
  },
  {
   "cell_type": "markdown",
   "id": "159d69f1",
   "metadata": {},
   "source": [
    "1.n_lags is the number of lag observations, which determines how many past observations you want to use as input features.\n",
    "\n",
    "2.A loop is used to create lagged columns (Sales_Lag_1, Sales_Lag_2, ..., Sales_Lag_n_lags) by shifting the original 'Sales' column.\n",
    "\n",
    "3.Rows with NaN values introduced by shifting are dropped to form the final supervised learning dataset.\n",
    "\n",
    "4.This DataFrame can now be used for training machine learning models, where the 'Sales' column is the target variable, and the lagged columns are the features. Adjust n_lags based on how many previous time steps you want to consider in your supervised learning setup."
   ]
  },
  {
   "cell_type": "markdown",
   "id": "08f21710",
   "metadata": {},
   "source": [
    "**6.Scale your data in the (-1, 1) range**"
   ]
  },
  {
   "cell_type": "code",
   "execution_count": 33,
   "id": "8dbc6c8c",
   "metadata": {},
   "outputs": [
    {
     "name": "stdout",
     "output_type": "stream",
     "text": [
      "   Sales_Lag_1  Sales_Lag_2  Sales_Lag_3  Scaled_Sales\n",
      "0         -1.0         -1.0         -1.0          -1.0\n",
      "1         -1.0         -1.0         -1.0          -1.0\n",
      "2         -1.0         -1.0         -1.0          -1.0\n",
      "3         -1.0         -1.0         -1.0          -1.0\n",
      "4         -1.0         -1.0         -1.0          -1.0\n"
     ]
    }
   ],
   "source": [
    "from sklearn.preprocessing import MinMaxScaler\n",
    "\n",
    "# Assuming 'df_supervised' is your supervised learning dataset\n",
    "features = df_supervised.drop('Sales', axis=1)\n",
    "target = df_supervised['Sales']\n",
    "\n",
    "# Use MinMaxScaler to scale features and target\n",
    "scaler_features = MinMaxScaler(feature_range=(-1, 1))\n",
    "scaler_target = MinMaxScaler(feature_range=(-1, 1))\n",
    "\n",
    "# Fit and transform features and target\n",
    "features_scaled = scaler_features.fit_transform(features)\n",
    "target_scaled = scaler_target.fit_transform(target.values.reshape(-1, 1))\n",
    "\n",
    "# Create a new DataFrame with scaled features and target\n",
    "df_scaled = pd.DataFrame(features_scaled, columns=features.columns)\n",
    "df_scaled['Scaled_Sales'] = target_scaled\n",
    "\n",
    "# Display the resulting DataFrame\n",
    "print(df_scaled.head())"
   ]
  },
  {
   "cell_type": "markdown",
   "id": "f252888d",
   "metadata": {},
   "source": [
    "**7.Build a LSTM Regression model to predict the next sale.**"
   ]
  },
  {
   "cell_type": "code",
   "execution_count": 34,
   "id": "b70289ed",
   "metadata": {},
   "outputs": [
    {
     "name": "stdout",
     "output_type": "stream",
     "text": [
      "WARNING:tensorflow:From C:\\Users\\Admin\\anaconda3\\lib\\site-packages\\keras\\src\\losses.py:2976: The name tf.losses.sparse_softmax_cross_entropy is deprecated. Please use tf.compat.v1.losses.sparse_softmax_cross_entropy instead.\n",
      "\n",
      "WARNING:tensorflow:From C:\\Users\\Admin\\anaconda3\\lib\\site-packages\\keras\\src\\layers\\rnn\\lstm.py:148: The name tf.executing_eagerly_outside_functions is deprecated. Please use tf.compat.v1.executing_eagerly_outside_functions instead.\n",
      "\n",
      "WARNING:tensorflow:From C:\\Users\\Admin\\anaconda3\\lib\\site-packages\\keras\\src\\optimizers\\__init__.py:309: The name tf.train.Optimizer is deprecated. Please use tf.compat.v1.train.Optimizer instead.\n",
      "\n",
      "WARNING:tensorflow:From C:\\Users\\Admin\\anaconda3\\lib\\site-packages\\keras\\src\\utils\\tf_utils.py:492: The name tf.ragged.RaggedTensorValue is deprecated. Please use tf.compat.v1.ragged.RaggedTensorValue instead.\n",
      "\n",
      "25430/25430 [==============================] - 313s 12ms/step - loss: 0.0041 - val_loss: 0.0040\n",
      "1/1 [==============================] - 0s 472ms/step\n",
      "Predicted Sales: [4289.0605]\n"
     ]
    },
    {
     "data": {
      "image/png": "[encoded data removed]",
      "text/plain": [
       "<Figure size 800x500 with 1 Axes>"
      ]
     },
     "metadata": {},
     "output_type": "display_data"
    }
   ],
   "source": [
    "import tensorflow as tf\n",
    "from tensorflow.keras.models import Sequential\n",
    "from tensorflow.keras.layers import LSTM, Dense\n",
    "from sklearn.model_selection import train_test_split\n",
    "from sklearn.preprocessing import MinMaxScaler\n",
    "import pandas as pd\n",
    "\n",
    "import mlflow\n",
    "\n",
    "# Set the tracking URI\n",
    "mlflow.set_tracking_uri('http://127.0.0.1:5000')\n",
    "\n",
    "# Set the experiment\n",
    "mlflow.set_experiment('mlops-down')\n",
    "\n",
    "# Assuming 'df' is your DataFrame and 'target_column' is the column you want to predict\n",
    "X = df_supervised.drop('Sales', axis=1)\n",
    "y = df_supervised['Sales']\n",
    "\n",
    "# Normalize the data using MinMaxScaler\n",
    "scaler = MinMaxScaler()\n",
    "X_scaled = scaler.fit_transform(X.values)\n",
    "y_scaled = scaler.fit_transform(y.values.reshape(-1, 1))\n",
    "\n",
    "# Define the sequence length (number of time steps to consider)\n",
    "sequence_length = 10\n",
    "\n",
    "# Function to create sequences for input data and corresponding target\n",
    "def create_sequences(data, target, sequence_length):\n",
    "    sequences, targets = [], []\n",
    "    for i in range(len(data) - sequence_length):\n",
    "        seq = data[i:i+sequence_length]\n",
    "        label = target[i+sequence_length]\n",
    "        sequences.append(seq)\n",
    "        targets.append(label)\n",
    "    return np.array(sequences), np.array(targets)\n",
    "\n",
    "# Create sequences and targets\n",
    "X_sequences, y_targets = create_sequences(X_scaled, y_scaled.flatten(), sequence_length)\n",
    "\n",
    "# Split the data into training and testing sets\n",
    "X_train, X_test, y_train, y_test = train_test_split(X_sequences, y_targets, test_size=0.2, random_state=42)\n",
    "\n",
    "# Build the LSTM model\n",
    "model = Sequential([\n",
    "    LSTM(50, activation='relu', return_sequences=True, input_shape=(X_train.shape[1], X_train.shape[2])),\n",
    "    LSTM(50, activation='relu'),\n",
    "    Dense(1)\n",
    "])\n",
    "\n",
    "model.compile(optimizer='adam', loss='mean_squared_error')\n",
    "\n",
    "# Train the model\n",
    "model.fit(X_train, y_train, epochs=1, batch_size=32, validation_data=(X_test, y_test))\n",
    "\n",
    "\n",
    "# Assuming 'new_data_for_prediction' is your DataFrame with categorical variables\n",
    "new_data_encoded = Store_train1['Sales']\n",
    "\n",
    "# Normalize the new data using MinMaxScaler\n",
    "new_data_scaled = scaler.transform(new_data_encoded.values.reshape(-1, 1))\n",
    "\n",
    "# Create the sequence for the new data\n",
    "new_data_sequence = new_data_scaled[-sequence_length:].reshape(1, sequence_length, 1)  # Change the last dimension to match the original features\n",
    "\n",
    "# Repeat the sequence to match the number of features in the training data\n",
    "new_data_sequence = np.repeat(new_data_sequence, X_train.shape[2], axis=-1)\n",
    "\n",
    "# Predict the sales for the new data\n",
    "predicted_sales_scaled = model.predict(new_data_sequence)\n",
    "\n",
    "# Inverse transform the predicted sales to the original scale\n",
    "predicted_sales_original = scaler.inverse_transform(predicted_sales_scaled.reshape(-1, 1))\n",
    "\n",
    "# Display the predicted sales\n",
    "print(\"Predicted Sales:\", predicted_sales_original.flatten())\n",
    "# Plot the results\n",
    "plt.figure(figsize=(8, 5))\n",
    "\n",
    "# Scatter plot for predicted sales\n",
    "plt.scatter([1], predicted_sales_original.flatten(), label='Predicted Sales', color='blue', marker='o')\n",
    "\n",
    "plt.title('Predicted Sales')\n",
    "plt.xlabel('Sample')\n",
    "plt.ylabel('Sales')\n",
    "plt.legend()\n",
    "plt.grid(True)\n",
    "plt.show()"
   ]
  },
  {
   "cell_type": "code",
   "execution_count": 35,
   "id": "4b273db7-616f-4406-a25f-3ede1bbb8939",
   "metadata": {},
   "outputs": [
    {
     "data": {
      "image/png": "[encoded data removed]",
      "text/plain": [
       "<Figure size 1000x600 with 1 Axes>"
      ]
     },
     "metadata": {},
     "output_type": "display_data"
    }
   ],
   "source": [
    "# Extract real sales from the DataFrame\n",
    "real_sales = df_supervised['Sales'].values\n",
    "\n",
    "# Plotting the real and predicted sales\n",
    "plt.figure(figsize=(10, 6))\n",
    "plt.plot(real_sales, label='Real Sales', marker='o', linestyle='-', color='green')\n",
    "plt.plot(predicted_sales_original.flatten(), label='Predicted Sales', marker='o', linestyle='-', color='blue')\n",
    "\n",
    "plt.title('Comparison of Real Sales and Predicted Sales')\n",
    "plt.xlabel('Time')\n",
    "plt.ylabel('Sales')\n",
    "plt.legend()\n",
    "plt.grid(True)\n",
    "plt.show()"
   ]
  },
  {
   "cell_type": "markdown",
   "id": "580d228e",
   "metadata": {},
   "source": [
    "# 2.7 Using MLFlow to serve the prediction\n",
    "Use the code snippet provided by mlflow to make inference on your test data \n"
   ]
  },
  {
   "cell_type": "code",
   "execution_count": 36,
   "id": "ab9059a9",
   "metadata": {},
   "outputs": [],
   "source": [
    "#pip install mlflow "
   ]
  },
  {
   "cell_type": "code",
   "execution_count": 37,
   "id": "9699099a",
   "metadata": {},
   "outputs": [
    {
     "name": "stdout",
     "output_type": "stream",
     "text": [
      "2.9.2\n"
     ]
    }
   ],
   "source": [
    "import mlflow\n",
    "\n",
    "print(mlflow.__version__)"
   ]
  },
  {
   "cell_type": "markdown",
   "id": "ceb22c05",
   "metadata": {},
   "source": [
    "# 1.To use MLflow to serve predictions on your test data, you can follow these steps:\n",
    "\n",
    "Load the Model:\n",
    "Load the trained model using MLflow. You will need to specify the model name or the run ID."
   ]
  },
  {
   "cell_type": "code",
   "execution_count": 38,
   "id": "2b02592b-9742-4382-b3d3-c6cd417575c5",
   "metadata": {},
   "outputs": [
    {
     "data": {
      "text/plain": [
       "['AI course Digicrome/Assignment/Work sheet/Pharmaceutical Sales prediction across multiple stores/model_2024-02-05-14-32-59-188.pkl']"
      ]
     },
     "execution_count": 38,
     "metadata": {},
     "output_type": "execute_result"
    }
   ],
   "source": [
    "import os\n",
    "import joblib\n",
    "\n",
    "# Create the directory if it does not exist\n",
    "directory_path = \"AI course Digicrome/Assignment/Work sheet/Pharmaceutical Sales prediction across multiple stores/\"\n",
    "os.makedirs(directory_path, exist_ok=True)\n",
    "\n",
    "# Save the model\n",
    "joblib.dump(model, directory_path + \"model_2024-02-05-14-32-59-188.pkl\")\n"
   ]
  },
  {
   "cell_type": "code",
   "execution_count": 39,
   "id": "37ccf4be",
   "metadata": {},
   "outputs": [
    {
     "name": "stderr",
     "output_type": "stream",
     "text": [
      "2024/02/06 12:30:53 WARNING mlflow.utils.git_utils: Failed to import Git (the Git executable is probably not on your PATH), so Git SHA is not available. Error: Failed to initialize: Bad git executable.\n",
      "The git executable must be specified in one of the following ways:\n",
      "    - be included in your $PATH\n",
      "    - be set via $GIT_PYTHON_GIT_EXECUTABLE\n",
      "    - explicitly set via git.refresh()\n",
      "\n",
      "All git commands will error until this is rectified.\n",
      "\n",
      "This initial warning can be silenced or aggravated in the future by setting the\n",
      "$GIT_PYTHON_REFRESH environment variable. Use one of the following values:\n",
      "    - quiet|q|silence|s|none|n|0: for no warning or exception\n",
      "    - warn|w|warning|1: for a printed warning\n",
      "    - error|e|raise|r|2: for a raised exception\n",
      "\n",
      "Example:\n",
      "    export GIT_PYTHON_REFRESH=quiet\n",
      "\n"
     ]
    },
    {
     "name": "stdout",
     "output_type": "stream",
     "text": [
      "28609/28609 [==============================] - 1557s 54ms/step - loss: 4.5845e-04 - val_loss: 8.2946e-07\n",
      "(101711, 10, 40)\n"
     ]
    }
   ],
   "source": [
    "import tensorflow as tf\n",
    "from sklearn.model_selection import train_test_split\n",
    "from sklearn.preprocessing import MinMaxScaler\n",
    "from sklearn.linear_model import LinearRegression\n",
    "import mlflow\n",
    "import mlflow.sklearn\n",
    "import pandas as pd\n",
    "import numpy as np\n",
    "\n",
    "# Assuming 'model' is your scikit-learn linear regression model\n",
    "model = LinearRegression()\n",
    "\n",
    "# Log the model with MLflow for scikit-learn\n",
    "artifact_path = \"sales_prediction_model\"  # Replace with the desired path\n",
    "\n",
    "# Check if there is an active run\n",
    "if mlflow.active_run():\n",
    "    # End the active run\n",
    "    mlflow.end_run()\n",
    "\n",
    "# Start a new MLflow run for the scikit-learn model\n",
    "with mlflow.start_run():\n",
    "    mlflow.sklearn.log_model(model, artifact_path)\n",
    "\n",
    "# End the active run\n",
    "mlflow.end_run()\n",
    "\n",
    "# Define the sequence length (number of time steps to consider)\n",
    "sequence_length = 10\n",
    "\n",
    "def create_sequences(data, sequence_length):\n",
    "    sequences, targets = [], []\n",
    "    for i in range(len(data) - sequence_length + 1):\n",
    "        seq = data[i:i+sequence_length]\n",
    "        if isinstance(data, pd.DataFrame):\n",
    "            label = data.iloc[i+sequence_length-1]['Scaled_Sales']\n",
    "        else:\n",
    "            label = data[i+sequence_length-1]\n",
    "        sequences.append(seq)\n",
    "        targets.append(label)\n",
    "    sequences = np.array(sequences)\n",
    "    targets = np.array(targets)\n",
    "    if len(sequences.shape) == 2:\n",
    "        sequences = np.expand_dims(sequences, axis=2)\n",
    "    return sequences, targets\n",
    "\n",
    "# Create sequences and targets\n",
    "X, y = create_sequences(df_scaled, sequence_length)\n",
    "y = y.reshape(-1, 1)  # Reshape y to match LSTM input shape\n",
    "\n",
    "# Ensure the shapes of X and y match\n",
    "assert X.shape[0] == y.shape[0], \"Number of samples in X and y do not match\"\n",
    "\n",
    "# Split the data into training and validation sets\n",
    "X_train, X_val, y_train, y_val = train_test_split(X, y, test_size=0.1, shuffle=False)\n",
    "\n",
    "# Build the LSTM model\n",
    "model = tf.keras.Sequential([\n",
    "    tf.keras.layers.LSTM(50, return_sequences=True, input_shape=(X_train.shape[1], X_train.shape[2])),\n",
    "    tf.keras.layers.LSTM(50),\n",
    "    tf.keras.layers.Dense(1)\n",
    "])\n",
    "\n",
    "model.compile(optimizer='adam', loss='mean_squared_error')\n",
    "\n",
    "# Start a new MLflow run for the LSTM model\n",
    "with mlflow.start_run():\n",
    "    # Train the model\n",
    "    model.fit(X_train, y_train, epochs=1, batch_size=32, validation_data=(X_val, y_val))\n",
    "\n",
    "    # Make predictions on the test set\n",
    "    X_test_sequences, _ = create_sequences(X_val, sequence_length)\n",
    "\n",
    "   # Reshape X_test_sequences to remove the extra dimension\n",
    "    X_test_sequences = X_test_sequences.reshape(X_test_sequences.shape[0], X_test_sequences.shape[1], X_test_sequences.shape[2] * X_test_sequences.shape[3])\n",
    "\n",
    "    # Check the shape of X_test_sequences\n",
    "    print(X_test_sequences.shape)\n"
   ]
  },
  {
   "cell_type": "code",
   "execution_count": 40,
   "id": "a0aff402-8ce2-476c-bc8a-a5653c451849",
   "metadata": {},
   "outputs": [
    {
     "name": "stdout",
     "output_type": "stream",
     "text": [
      "Model Artifact Path: mlruns/0/45f632f6d31643fbb1f3c8338f8615c1/artifacts/sales_prediction_model\n"
     ]
    }
   ],
   "source": [
    "import mlflow\n",
    "\n",
    "# Start a run and log the model\n",
    "with mlflow.start_run():\n",
    "    # ... train and log the model with mlflow.sklearn.log_model() or other appropriate method\n",
    "\n",
    "    # Get the run ID\n",
    "    run_id = mlflow.active_run().info.run_id\n",
    "\n",
    "# Specify the artifact path (assuming it's a local directory)\n",
    "artifact_path = \"sales_prediction_model\"\n",
    "\n",
    "# Get the absolute path to the saved model artifact\n",
    "model_path = f\"mlruns/0/{run_id}/artifacts/{artifact_path}\"\n",
    "\n",
    "# Display the model path\n",
    "print(\"Model Artifact Path:\", model_path)\n"
   ]
  },
  {
   "cell_type": "code",
   "execution_count": null,
   "id": "4a31fced-ea98-4704-8d7c-9735614c4a9e",
   "metadata": {},
   "outputs": [],
   "source": []
  },
  {
   "cell_type": "code",
   "execution_count": null,
   "id": "072c53e0",
   "metadata": {},
   "outputs": [],
   "source": []
  },
  {
   "cell_type": "code",
   "execution_count": null,
   "id": "1d6c8d33",
   "metadata": {},
   "outputs": [],
   "source": [
    "mlflow.set_tracking_uri('http://127.0.0.1:5000')\n",
    "mlflow.set_experiment('mlops-down')\n"
   ]
  },
  {
   "cell_type": "code",
   "execution_count": null,
   "id": "88b3576c",
   "metadata": {},
   "outputs": [],
   "source": []
  },
  {
   "cell_type": "code",
   "execution_count": null,
   "id": "188e9f04",
   "metadata": {},
   "outputs": [],
   "source": []
  },
  {
   "cell_type": "code",
   "execution_count": null,
   "id": "945a1749",
   "metadata": {},
   "outputs": [],
   "source": []
  }
 ],
 "metadata": {
  "kernelspec": {
   "display_name": "Python 3 (ipykernel)",
   "language": "python",
   "name": "python3"
  },
  "language_info": {
   "codemirror_mode": {
    "name": "ipython",
    "version": 3
   },
   "file_extension": ".py",
   "mimetype": "text/x-python",
   "name": "python",
   "nbconvert_exporter": "python",
   "pygments_lexer": "ipython3",
   "version": "3.10.13"
  }
 },
 "nbformat": 4,
 "nbformat_minor": 5
}
